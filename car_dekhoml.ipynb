{
 "cells": [
  {
   "cell_type": "code",
   "execution_count": 1,
   "metadata": {},
   "outputs": [],
   "source": [
    "import pandas as pd\n",
    "from sklearn.ensemble import RandomForestRegressor\n",
    "from sklearn.tree import DecisionTreeRegressor\n",
    "from sklearn.model_selection import train_test_split,GridSearchCV,RandomizedSearchCV\n",
    "from sklearn.linear_model import LinearRegression,Ridge,Lasso\n",
    "from sklearn.ensemble import GradientBoostingRegressor\n",
    "from sklearn.metrics import mean_squared_error,mean_absolute_error,r2_score"
   ]
  },
  {
   "cell_type": "code",
   "execution_count": 3,
   "metadata": {},
   "outputs": [
    {
     "data": {
      "text/html": [
       "<div>\n",
       "<style scoped>\n",
       "    .dataframe tbody tr th:only-of-type {\n",
       "        vertical-align: middle;\n",
       "    }\n",
       "\n",
       "    .dataframe tbody tr th {\n",
       "        vertical-align: top;\n",
       "    }\n",
       "\n",
       "    .dataframe thead th {\n",
       "        text-align: right;\n",
       "    }\n",
       "</style>\n",
       "<table border=\"1\" class=\"dataframe\">\n",
       "  <thead>\n",
       "    <tr style=\"text-align: right;\">\n",
       "      <th></th>\n",
       "      <th>fuel_type</th>\n",
       "      <th>body_type</th>\n",
       "      <th>kilometer_runned</th>\n",
       "      <th>transmission_type</th>\n",
       "      <th>number_of_owners</th>\n",
       "      <th>manufacturer</th>\n",
       "      <th>model</th>\n",
       "      <th>model_year</th>\n",
       "      <th>registration_year</th>\n",
       "      <th>insurance_validity</th>\n",
       "      <th>seats</th>\n",
       "      <th>engine_displacement</th>\n",
       "      <th>mileage</th>\n",
       "      <th>max_power(bhp)</th>\n",
       "      <th>City</th>\n",
       "    </tr>\n",
       "  </thead>\n",
       "  <tbody>\n",
       "    <tr>\n",
       "      <th>0</th>\n",
       "      <td>4</td>\n",
       "      <td>4.602930e+05</td>\n",
       "      <td>49.32</td>\n",
       "      <td>1</td>\n",
       "      <td>3</td>\n",
       "      <td>19</td>\n",
       "      <td>140</td>\n",
       "      <td>2015</td>\n",
       "      <td>2015</td>\n",
       "      <td>5</td>\n",
       "      <td>5</td>\n",
       "      <td>9.99</td>\n",
       "      <td>2.85</td>\n",
       "      <td>4.06</td>\n",
       "      <td>0</td>\n",
       "    </tr>\n",
       "    <tr>\n",
       "      <th>1</th>\n",
       "      <td>4</td>\n",
       "      <td>1.494417e+06</td>\n",
       "      <td>31.98</td>\n",
       "      <td>1</td>\n",
       "      <td>2</td>\n",
       "      <td>6</td>\n",
       "      <td>45</td>\n",
       "      <td>2018</td>\n",
       "      <td>2018</td>\n",
       "      <td>2</td>\n",
       "      <td>5</td>\n",
       "      <td>11.44</td>\n",
       "      <td>2.57</td>\n",
       "      <td>4.95</td>\n",
       "      <td>0</td>\n",
       "    </tr>\n",
       "    <tr>\n",
       "      <th>2</th>\n",
       "      <td>4</td>\n",
       "      <td>4.602930e+05</td>\n",
       "      <td>22.86</td>\n",
       "      <td>1</td>\n",
       "      <td>1</td>\n",
       "      <td>28</td>\n",
       "      <td>237</td>\n",
       "      <td>2018</td>\n",
       "      <td>2018</td>\n",
       "      <td>2</td>\n",
       "      <td>5</td>\n",
       "      <td>10.62</td>\n",
       "      <td>2.88</td>\n",
       "      <td>4.38</td>\n",
       "      <td>0</td>\n",
       "    </tr>\n",
       "    <tr>\n",
       "      <th>3</th>\n",
       "      <td>4</td>\n",
       "      <td>1.045482e+06</td>\n",
       "      <td>26.11</td>\n",
       "      <td>1</td>\n",
       "      <td>1</td>\n",
       "      <td>8</td>\n",
       "      <td>79</td>\n",
       "      <td>2014</td>\n",
       "      <td>2014</td>\n",
       "      <td>2</td>\n",
       "      <td>5</td>\n",
       "      <td>10.62</td>\n",
       "      <td>2.67</td>\n",
       "      <td>4.34</td>\n",
       "      <td>0</td>\n",
       "    </tr>\n",
       "    <tr>\n",
       "      <th>4</th>\n",
       "      <td>1</td>\n",
       "      <td>1.494417e+06</td>\n",
       "      <td>39.15</td>\n",
       "      <td>1</td>\n",
       "      <td>1</td>\n",
       "      <td>19</td>\n",
       "      <td>155</td>\n",
       "      <td>2015</td>\n",
       "      <td>2015</td>\n",
       "      <td>5</td>\n",
       "      <td>5</td>\n",
       "      <td>10.77</td>\n",
       "      <td>2.87</td>\n",
       "      <td>4.46</td>\n",
       "      <td>0</td>\n",
       "    </tr>\n",
       "    <tr>\n",
       "      <th>...</th>\n",
       "      <td>...</td>\n",
       "      <td>...</td>\n",
       "      <td>...</td>\n",
       "      <td>...</td>\n",
       "      <td>...</td>\n",
       "      <td>...</td>\n",
       "      <td>...</td>\n",
       "      <td>...</td>\n",
       "      <td>...</td>\n",
       "      <td>...</td>\n",
       "      <td>...</td>\n",
       "      <td>...</td>\n",
       "      <td>...</td>\n",
       "      <td>...</td>\n",
       "      <td>...</td>\n",
       "    </tr>\n",
       "    <tr>\n",
       "      <th>7184</th>\n",
       "      <td>4</td>\n",
       "      <td>1.494417e+06</td>\n",
       "      <td>27.14</td>\n",
       "      <td>1</td>\n",
       "      <td>1</td>\n",
       "      <td>8</td>\n",
       "      <td>66</td>\n",
       "      <td>2019</td>\n",
       "      <td>2019</td>\n",
       "      <td>5</td>\n",
       "      <td>5</td>\n",
       "      <td>11.67</td>\n",
       "      <td>2.51</td>\n",
       "      <td>4.95</td>\n",
       "      <td>5</td>\n",
       "    </tr>\n",
       "    <tr>\n",
       "      <th>7185</th>\n",
       "      <td>4</td>\n",
       "      <td>1.045482e+06</td>\n",
       "      <td>34.20</td>\n",
       "      <td>1</td>\n",
       "      <td>1</td>\n",
       "      <td>19</td>\n",
       "      <td>157</td>\n",
       "      <td>2019</td>\n",
       "      <td>2019</td>\n",
       "      <td>5</td>\n",
       "      <td>5</td>\n",
       "      <td>10.62</td>\n",
       "      <td>2.77</td>\n",
       "      <td>4.34</td>\n",
       "      <td>5</td>\n",
       "    </tr>\n",
       "    <tr>\n",
       "      <th>7186</th>\n",
       "      <td>4</td>\n",
       "      <td>1.494417e+06</td>\n",
       "      <td>27.14</td>\n",
       "      <td>1</td>\n",
       "      <td>1</td>\n",
       "      <td>28</td>\n",
       "      <td>233</td>\n",
       "      <td>2022</td>\n",
       "      <td>2022</td>\n",
       "      <td>5</td>\n",
       "      <td>5</td>\n",
       "      <td>10.62</td>\n",
       "      <td>2.59</td>\n",
       "      <td>4.91</td>\n",
       "      <td>5</td>\n",
       "    </tr>\n",
       "    <tr>\n",
       "      <th>7187</th>\n",
       "      <td>4</td>\n",
       "      <td>1.045482e+06</td>\n",
       "      <td>39.15</td>\n",
       "      <td>1</td>\n",
       "      <td>1</td>\n",
       "      <td>19</td>\n",
       "      <td>157</td>\n",
       "      <td>2010</td>\n",
       "      <td>2010</td>\n",
       "      <td>5</td>\n",
       "      <td>5</td>\n",
       "      <td>10.91</td>\n",
       "      <td>2.60</td>\n",
       "      <td>4.41</td>\n",
       "      <td>5</td>\n",
       "    </tr>\n",
       "    <tr>\n",
       "      <th>7188</th>\n",
       "      <td>4</td>\n",
       "      <td>1.045482e+06</td>\n",
       "      <td>36.84</td>\n",
       "      <td>0</td>\n",
       "      <td>3</td>\n",
       "      <td>20</td>\n",
       "      <td>168</td>\n",
       "      <td>2011</td>\n",
       "      <td>2011</td>\n",
       "      <td>5</td>\n",
       "      <td>5</td>\n",
       "      <td>12.16</td>\n",
       "      <td>2.27</td>\n",
       "      <td>5.71</td>\n",
       "      <td>5</td>\n",
       "    </tr>\n",
       "  </tbody>\n",
       "</table>\n",
       "<p>7189 rows × 15 columns</p>\n",
       "</div>"
      ],
      "text/plain": [
       "      fuel_type     body_type  kilometer_runned  transmission_type  \\\n",
       "0             4  4.602930e+05             49.32                  1   \n",
       "1             4  1.494417e+06             31.98                  1   \n",
       "2             4  4.602930e+05             22.86                  1   \n",
       "3             4  1.045482e+06             26.11                  1   \n",
       "4             1  1.494417e+06             39.15                  1   \n",
       "...         ...           ...               ...                ...   \n",
       "7184          4  1.494417e+06             27.14                  1   \n",
       "7185          4  1.045482e+06             34.20                  1   \n",
       "7186          4  1.494417e+06             27.14                  1   \n",
       "7187          4  1.045482e+06             39.15                  1   \n",
       "7188          4  1.045482e+06             36.84                  0   \n",
       "\n",
       "      number_of_owners  manufacturer  model  model_year  registration_year  \\\n",
       "0                    3            19    140        2015               2015   \n",
       "1                    2             6     45        2018               2018   \n",
       "2                    1            28    237        2018               2018   \n",
       "3                    1             8     79        2014               2014   \n",
       "4                    1            19    155        2015               2015   \n",
       "...                ...           ...    ...         ...                ...   \n",
       "7184                 1             8     66        2019               2019   \n",
       "7185                 1            19    157        2019               2019   \n",
       "7186                 1            28    233        2022               2022   \n",
       "7187                 1            19    157        2010               2010   \n",
       "7188                 3            20    168        2011               2011   \n",
       "\n",
       "      insurance_validity  seats  engine_displacement  mileage  max_power(bhp)  \\\n",
       "0                      5      5                 9.99     2.85            4.06   \n",
       "1                      2      5                11.44     2.57            4.95   \n",
       "2                      2      5                10.62     2.88            4.38   \n",
       "3                      2      5                10.62     2.67            4.34   \n",
       "4                      5      5                10.77     2.87            4.46   \n",
       "...                  ...    ...                  ...      ...             ...   \n",
       "7184                   5      5                11.67     2.51            4.95   \n",
       "7185                   5      5                10.62     2.77            4.34   \n",
       "7186                   5      5                10.62     2.59            4.91   \n",
       "7187                   5      5                10.91     2.60            4.41   \n",
       "7188                   5      5                12.16     2.27            5.71   \n",
       "\n",
       "      City  \n",
       "0        0  \n",
       "1        0  \n",
       "2        0  \n",
       "3        0  \n",
       "4        0  \n",
       "...    ...  \n",
       "7184     5  \n",
       "7185     5  \n",
       "7186     5  \n",
       "7187     5  \n",
       "7188     5  \n",
       "\n",
       "[7189 rows x 15 columns]"
      ]
     },
     "execution_count": 3,
     "metadata": {},
     "output_type": "execute_result"
    }
   ],
   "source": [
    "df =  pd.read_csv(\"preprocessed_data.csv\")\n",
    "x=df.drop('price',axis=1)\n",
    "y=df['price']\n",
    "x"
   ]
  },
  {
   "cell_type": "code",
   "execution_count": 4,
   "metadata": {},
   "outputs": [],
   "source": [
    "#  train_test_split\n",
    "x_train,x_test,y_train,y_test=train_test_split(x,y,test_size=0.2,random_state=42)"
   ]
  },
  {
   "cell_type": "markdown",
   "metadata": {},
   "source": [
    "RANDOM FOREST REGRESSOR\n"
   ]
  },
  {
   "cell_type": "code",
   "execution_count": 5,
   "metadata": {},
   "outputs": [],
   "source": [
    "rfr = RandomForestRegressor()\n",
    "model1=rfr.fit(x_train,y_train)"
   ]
  },
  {
   "cell_type": "code",
   "execution_count": 6,
   "metadata": {},
   "outputs": [],
   "source": [
    "\n",
    "rfr_train = model1.predict(x_train)\n",
    "rfr_test = model1.predict(x_test)"
   ]
  },
  {
   "cell_type": "code",
   "execution_count": 7,
   "metadata": {},
   "outputs": [
    {
     "name": "stdout",
     "output_type": "stream",
     "text": [
      "train_data_metrics:\n",
      "R2 score -  0.9710172644730392\n",
      "mean absolute error -  54592.23911173489\n",
      "mean squared error -  43299924372.85775\n",
      "root mean squared error -  208086.33874634287\n"
     ]
    }
   ],
   "source": [
    "import numpy as np\n",
    "print(\"train_data_metrics:\")\n",
    "print(\"R2 score - \",r2_score(y_train,rfr_train))\n",
    "print(\"mean absolute error - \",mean_absolute_error(y_train,rfr_train))\n",
    "print(\"mean squared error - \",mean_squared_error(y_train,rfr_train))\n",
    "print(\"root mean squared error - \",np.sqrt(mean_squared_error(y_train,rfr_train)))\n"
   ]
  },
  {
   "cell_type": "code",
   "execution_count": 8,
   "metadata": {},
   "outputs": [
    {
     "name": "stdout",
     "output_type": "stream",
     "text": [
      "test_data_metrics:\n",
      "R2 score -  0.9014602871089752\n",
      "mean absolute error -  120827.82931485528\n",
      "mean_squared_error -  95030442165.40555\n",
      "root mean squared error -  308270.07990624965\n"
     ]
    }
   ],
   "source": [
    "print(\"test_data_metrics:\")\n",
    "print(\"R2 score - \",r2_score(y_test,rfr_test))\n",
    "print(\"mean absolute error - \",mean_absolute_error(y_test,rfr_test))\n",
    "print(\"mean_squared_error - \",mean_squared_error(y_test,rfr_test))\n",
    "print(\"root mean squared error - \",np.sqrt(mean_squared_error(y_test,rfr_test)))"
   ]
  },
  {
   "cell_type": "markdown",
   "metadata": {},
   "source": [
    "LINEAR REGRESSION"
   ]
  },
  {
   "cell_type": "code",
   "execution_count": 9,
   "metadata": {},
   "outputs": [],
   "source": [
    "lr = LinearRegression()\n",
    "model2 = lr.fit(x_train,y_train)"
   ]
  },
  {
   "cell_type": "code",
   "execution_count": 10,
   "metadata": {},
   "outputs": [],
   "source": [
    "lr_train = model2.predict(x_train)\n",
    "lr_test = model2.predict(x_test)"
   ]
  },
  {
   "cell_type": "code",
   "execution_count": 11,
   "metadata": {},
   "outputs": [
    {
     "name": "stdout",
     "output_type": "stream",
     "text": [
      "trained_data_metrics of linear regression:\n",
      "r2 score -  0.48077952299747695\n",
      "mean absolute error -  421748.8974180923\n",
      "mean squared error -  775710331626.0311\n",
      "root mean squared error -  880744.191934316\n"
     ]
    }
   ],
   "source": [
    "print(\"trained_data_metrics of linear regression:\")\n",
    "print(\"r2 score - \",r2_score(y_train,lr_train))\n",
    "print(\"mean absolute error - \",mean_absolute_error(y_train,lr_train))\n",
    "print(\"mean squared error - \",mean_squared_error(y_train,lr_train))\n",
    "print(\"root mean squared error - \",np.sqrt(mean_squared_error(y_train,lr_train)))\n",
    "\n",
    "\n",
    "\n",
    "\n"
   ]
  },
  {
   "cell_type": "code",
   "execution_count": 12,
   "metadata": {},
   "outputs": [
    {
     "name": "stdout",
     "output_type": "stream",
     "text": [
      "test_data_metrics of linear regression:\n",
      "r2 score -  0.5829498983339851\n",
      "mean absolute error -  398720.395205669\n",
      "mean squared error -  402197798265.1349\n",
      "root mean squared error -  634190.6639687587\n"
     ]
    }
   ],
   "source": [
    "print(\"test_data_metrics of linear regression:\")\n",
    "print(\"r2 score - \",r2_score(y_test,lr_test))\n",
    "print(\"mean absolute error - \",mean_absolute_error(y_test,lr_test))\n",
    "print(\"mean squared error - \",mean_squared_error(y_test,lr_test))\n",
    "print(\"root mean squared error - \",np.sqrt(mean_squared_error(y_test,lr_test)))"
   ]
  },
  {
   "cell_type": "markdown",
   "metadata": {},
   "source": [
    "Decision Tree Regressor"
   ]
  },
  {
   "cell_type": "code",
   "execution_count": 13,
   "metadata": {},
   "outputs": [],
   "source": [
    "dtr = DecisionTreeRegressor(max_depth=6)\n",
    "model3 = dtr.fit(x_train,y_train)"
   ]
  },
  {
   "cell_type": "code",
   "execution_count": 14,
   "metadata": {},
   "outputs": [],
   "source": [
    "dtr_train = model3.predict(x_train)\n",
    "dtr_test = model3.predict(x_test)"
   ]
  },
  {
   "cell_type": "code",
   "execution_count": 15,
   "metadata": {},
   "outputs": [
    {
     "name": "stdout",
     "output_type": "stream",
     "text": [
      "train_data_metrics of decision tree regression:\n",
      "r2 score -  0.8949129296854592\n",
      "mean absolute error -  182057.29094653513\n",
      "mean squared error -  156999058731.0838\n",
      "root mean squared error -  396231.0673471779\n"
     ]
    }
   ],
   "source": [
    "print(\"train_data_metrics of decision tree regression:\")\n",
    "print(\"r2 score - \",r2_score(y_train,dtr_train))\n",
    "print(\"mean absolute error - \",mean_absolute_error(y_train,dtr_train))\n",
    "print(\"mean squared error - \",mean_squared_error(y_train,dtr_train))\n",
    "print(\"root mean squared error - \",np.sqrt(mean_squared_error(y_train,dtr_train)))"
   ]
  },
  {
   "cell_type": "code",
   "execution_count": 16,
   "metadata": {},
   "outputs": [
    {
     "name": "stdout",
     "output_type": "stream",
     "text": [
      "test_data_metrics of decision tree regression:\n",
      "r2 score -  0.8590057280532287\n",
      "mean absolute error -  186840.2855553058\n",
      "mean squared error -  135973077379.56168\n",
      "root mean squared error -  368745.274382685\n"
     ]
    }
   ],
   "source": [
    "print(\"test_data_metrics of decision tree regression:\")\n",
    "print(\"r2 score - \",r2_score(y_test,dtr_test))\n",
    "print(\"mean absolute error - \",mean_absolute_error(y_test,dtr_test))\n",
    "print(\"mean squared error - \",mean_squared_error(y_test,dtr_test))\n",
    "print(\"root mean squared error - \",np.sqrt(mean_squared_error(y_test,dtr_test)))"
   ]
  },
  {
   "cell_type": "markdown",
   "metadata": {},
   "source": [
    "Gradient Boosting Machine"
   ]
  },
  {
   "cell_type": "code",
   "execution_count": 17,
   "metadata": {},
   "outputs": [],
   "source": [
    "gbr = GradientBoostingRegressor()\n",
    "model4 = gbr.fit(x_train,y_train)"
   ]
  },
  {
   "cell_type": "code",
   "execution_count": 18,
   "metadata": {},
   "outputs": [],
   "source": [
    "gbr_train = model4.predict(x_train)\n",
    "gbr_test = model4.predict(x_test)"
   ]
  },
  {
   "cell_type": "code",
   "execution_count": 19,
   "metadata": {},
   "outputs": [
    {
     "name": "stdout",
     "output_type": "stream",
     "text": [
      "train_data_metrics of gradient boost regression:\n",
      "r2 score -  0.9118823432177225\n",
      "mean absolute error -  147667.43466837937\n",
      "mean squared error -  131646920320.43465\n",
      "root mean squared error -  362831.8072060864\n"
     ]
    }
   ],
   "source": [
    "print(\"train_data_metrics of gradient boost regression:\")\n",
    "print(\"r2 score - \",r2_score(y_train,gbr_train))\n",
    "print(\"mean absolute error - \",mean_absolute_error(y_train,gbr_train))\n",
    "print(\"mean squared error - \",mean_squared_error(y_train,gbr_train))\n",
    "print(\"root mean squared error - \",np.sqrt(mean_squared_error(y_train,gbr_train)))"
   ]
  },
  {
   "cell_type": "code",
   "execution_count": 20,
   "metadata": {},
   "outputs": [
    {
     "name": "stdout",
     "output_type": "stream",
     "text": [
      "test_data_metrics of gradient boost regression:\n",
      "r2 score -  0.869685406826111\n",
      "mean absolute error -  155747.34343840825\n",
      "mean squared error -  125673731398.17172\n",
      "root mean squared error -  354504.9102596066\n"
     ]
    }
   ],
   "source": [
    "print(\"test_data_metrics of gradient boost regression:\")\n",
    "print(\"r2 score - \",r2_score(y_test,gbr_test))\n",
    "print(\"mean absolute error - \",mean_absolute_error(y_test,gbr_test))\n",
    "print(\"mean squared error - \",mean_squared_error(y_test,gbr_test))\n",
    "print(\"root mean squared error - \",np.sqrt(mean_squared_error(y_test,gbr_test)))"
   ]
  },
  {
   "cell_type": "markdown",
   "metadata": {},
   "source": [
    "RIDGE"
   ]
  },
  {
   "cell_type": "code",
   "execution_count": 21,
   "metadata": {},
   "outputs": [],
   "source": [
    "rd = Ridge(alpha=0.1)\n",
    "model5 = rd.fit(x_train,y_train)"
   ]
  },
  {
   "cell_type": "code",
   "execution_count": 22,
   "metadata": {},
   "outputs": [],
   "source": [
    "rd_train = model5.predict(x_train)\n",
    "rd_test  = model5.predict(x_test)"
   ]
  },
  {
   "cell_type": "code",
   "execution_count": 23,
   "metadata": {},
   "outputs": [
    {
     "name": "stdout",
     "output_type": "stream",
     "text": [
      "trained_data_metrics of Ridge:\n",
      "r2 score -  0.480779492198525\n",
      "mean absolute error -  421726.1895083008\n",
      "mean squared error -  775710377639.3651\n",
      "root mean squared error -  880744.2180561648\n"
     ]
    }
   ],
   "source": [
    "import numpy as np\n",
    "print(\"trained_data_metrics of Ridge:\")\n",
    "print(\"r2 score - \",r2_score(y_train,rd_train))\n",
    "print(\"mean absolute error - \",mean_absolute_error(y_train,rd_train))\n",
    "print(\"mean squared error - \",mean_squared_error(y_train,rd_train))\n",
    "print(\"root mean squared error - \",np.sqrt(mean_squared_error(y_train,rd_train)))\n",
    "\n",
    "\n",
    "\n",
    "\n"
   ]
  },
  {
   "cell_type": "code",
   "execution_count": 24,
   "metadata": {},
   "outputs": [
    {
     "name": "stdout",
     "output_type": "stream",
     "text": [
      "test_data_metrics of ridge:\n",
      "r2 score -  0.5829698185839386\n",
      "mean absolute error -  398698.69470485375\n",
      "mean squared error -  402178587430.1773\n",
      "root mean squared error -  634175.5178420066\n"
     ]
    }
   ],
   "source": [
    "print(\"test_data_metrics of ridge:\")\n",
    "print(\"r2 score - \",r2_score(y_test,rd_test))\n",
    "print(\"mean absolute error - \",mean_absolute_error(y_test,rd_test))\n",
    "print(\"mean squared error - \",mean_squared_error(y_test,rd_test))\n",
    "print(\"root mean squared error - \",np.sqrt(mean_squared_error(y_test,rd_test)))"
   ]
  },
  {
   "cell_type": "markdown",
   "metadata": {},
   "source": [
    "LASSO"
   ]
  },
  {
   "cell_type": "code",
   "execution_count": 25,
   "metadata": {},
   "outputs": [
    {
     "name": "stderr",
     "output_type": "stream",
     "text": [
      "e:\\projects\\car dekho\\cars\\Lib\\site-packages\\sklearn\\linear_model\\_coordinate_descent.py:695: ConvergenceWarning: Objective did not converge. You might want to increase the number of iterations, check the scale of the features or consider increasing regularisation. Duality gap: 2.231e+15, tolerance: 8.592e+11\n",
      "  model = cd_fast.enet_coordinate_descent(\n"
     ]
    }
   ],
   "source": [
    "ls = Lasso(alpha=0.1)\n",
    "model6 = ls.fit(x_train,y_train)"
   ]
  },
  {
   "cell_type": "code",
   "execution_count": 26,
   "metadata": {},
   "outputs": [],
   "source": [
    "ls_train = model6.predict(x_train)\n",
    "ls_test = model6.predict(x_test)"
   ]
  },
  {
   "cell_type": "code",
   "execution_count": 27,
   "metadata": {},
   "outputs": [
    {
     "name": "stdout",
     "output_type": "stream",
     "text": [
      "trained_data_metrics of lasso:\n",
      "r2 score -  0.48077951846143463\n",
      "mean absolute error -  421744.7545016018\n",
      "mean squared error -  775710338402.8341\n",
      "root mean squared error -  880744.1957815187\n"
     ]
    }
   ],
   "source": [
    "import numpy as np\n",
    "print(\"trained_data_metrics of lasso:\")\n",
    "print(\"r2 score - \",r2_score(y_train,ls_train))\n",
    "print(\"mean absolute error - \",mean_absolute_error(y_train,ls_train))\n",
    "print(\"mean squared error - \",mean_squared_error(y_train,ls_train))\n",
    "print(\"root mean squared error - \",np.sqrt(mean_squared_error(y_train,ls_train)))\n",
    "\n",
    "\n",
    "\n",
    "\n"
   ]
  },
  {
   "cell_type": "code",
   "execution_count": 28,
   "metadata": {},
   "outputs": [
    {
     "name": "stdout",
     "output_type": "stream",
     "text": [
      "test_data_metrics of lasso:\n",
      "r2 score -  0.5829550907805003\n",
      "mean absolute error -  398719.58113313245\n",
      "mean squared error -  402192790735.94916\n",
      "root mean squared error -  634186.7159882404\n"
     ]
    }
   ],
   "source": [
    "print(\"test_data_metrics of lasso:\")\n",
    "print(\"r2 score - \",r2_score(y_test,ls_test))\n",
    "print(\"mean absolute error - \",mean_absolute_error(y_test,ls_test))\n",
    "print(\"mean squared error - \",mean_squared_error(y_test,ls_test))\n",
    "print(\"root mean squared error - \",np.sqrt(mean_squared_error(y_test,ls_test)))"
   ]
  },
  {
   "cell_type": "markdown",
   "metadata": {},
   "source": [
    "* FROM THE ABOVE MODELS,WE CLEARLY SEEN THAT THE RANDOM FOREST REGRESSOR GIVES THE GOOD R2 SCORE OF 0.94.\n",
    "* AS A RESULT WE TOOK THE RANDOM FOREST REGRESSOR AS BEST MODEL AND FURTHER DO HYPER PARAMETER TUNING FOR GETTING GOOD FIT."
   ]
  },
  {
   "cell_type": "code",
   "execution_count": 29,
   "metadata": {},
   "outputs": [],
   "source": [
    "# PARAMETERS OF RANDOM FOREST REGRESSOR\n",
    "n_estimators = [int(n) for n in np.linspace(start=100,stop=250,num=9)]\n",
    "criterion = [\"squared_error\", \"absolute_error\", \"friedman_mse\", \"poisson\"]\n",
    "max_depth = [int(n)for n in np.linspace(start=5,stop=28,num=7)]\n",
    "min_samples_split = [int(n) for n in np.linspace(start=2,stop=100,num=8)]\n",
    "min_samples_leaf = [1,3,6,8,18]\n",
    "max_features =['log2','sqrt']\n"
   ]
  },
  {
   "cell_type": "code",
   "execution_count": 30,
   "metadata": {},
   "outputs": [],
   "source": [
    "parameters = {\n",
    "    'n_estimators' : n_estimators,\n",
    "    'criterion'    : criterion,\n",
    "    'max_depth'    : max_depth,\n",
    "    'min_samples_split': min_samples_split,\n",
    "    'min_samples_leaf' : min_samples_leaf,\n",
    "    'max_features'  : max_features\n",
    "}"
   ]
  },
  {
   "cell_type": "markdown",
   "metadata": {},
   "source": [
    "RANDOMIZEDSEARCHCV"
   ]
  },
  {
   "cell_type": "code",
   "execution_count": 31,
   "metadata": {},
   "outputs": [
    {
     "name": "stdout",
     "output_type": "stream",
     "text": [
      "Fitting 5 folds for each of 10 candidates, totalling 50 fits\n",
      "[CV] END criterion=poisson, max_depth=5, max_features=sqrt, min_samples_leaf=18, min_samples_split=44, n_estimators=100; total time=   0.2s\n",
      "[CV] END criterion=poisson, max_depth=5, max_features=sqrt, min_samples_leaf=18, min_samples_split=44, n_estimators=100; total time=   0.2s\n",
      "[CV] END criterion=poisson, max_depth=5, max_features=sqrt, min_samples_leaf=18, min_samples_split=44, n_estimators=100; total time=   0.2s\n",
      "[CV] END criterion=poisson, max_depth=5, max_features=sqrt, min_samples_leaf=18, min_samples_split=44, n_estimators=100; total time=   0.2s\n",
      "[CV] END criterion=poisson, max_depth=5, max_features=sqrt, min_samples_leaf=18, min_samples_split=44, n_estimators=100; total time=   0.2s\n",
      "[CV] END criterion=squared_error, max_depth=8, max_features=log2, min_samples_leaf=3, min_samples_split=100, n_estimators=193; total time=   0.4s\n",
      "[CV] END criterion=squared_error, max_depth=8, max_features=log2, min_samples_leaf=3, min_samples_split=100, n_estimators=193; total time=   0.4s\n",
      "[CV] END criterion=squared_error, max_depth=8, max_features=log2, min_samples_leaf=3, min_samples_split=100, n_estimators=193; total time=   0.5s\n",
      "[CV] END criterion=squared_error, max_depth=8, max_features=log2, min_samples_leaf=3, min_samples_split=100, n_estimators=193; total time=   0.5s\n",
      "[CV] END criterion=squared_error, max_depth=8, max_features=log2, min_samples_leaf=3, min_samples_split=100, n_estimators=193; total time=   0.4s\n",
      "[CV] END criterion=absolute_error, max_depth=5, max_features=log2, min_samples_leaf=18, min_samples_split=86, n_estimators=250; total time=  28.5s\n",
      "[CV] END criterion=absolute_error, max_depth=5, max_features=log2, min_samples_leaf=18, min_samples_split=86, n_estimators=250; total time=  28.4s\n",
      "[CV] END criterion=absolute_error, max_depth=5, max_features=log2, min_samples_leaf=18, min_samples_split=86, n_estimators=250; total time=  27.8s\n",
      "[CV] END criterion=absolute_error, max_depth=5, max_features=log2, min_samples_leaf=18, min_samples_split=86, n_estimators=250; total time=  28.5s\n",
      "[CV] END criterion=absolute_error, max_depth=5, max_features=log2, min_samples_leaf=18, min_samples_split=86, n_estimators=250; total time=  28.8s\n",
      "[CV] END criterion=friedman_mse, max_depth=12, max_features=sqrt, min_samples_leaf=3, min_samples_split=16, n_estimators=156; total time=   0.7s\n",
      "[CV] END criterion=friedman_mse, max_depth=12, max_features=sqrt, min_samples_leaf=3, min_samples_split=16, n_estimators=156; total time=   0.6s\n",
      "[CV] END criterion=friedman_mse, max_depth=12, max_features=sqrt, min_samples_leaf=3, min_samples_split=16, n_estimators=156; total time=   0.7s\n",
      "[CV] END criterion=friedman_mse, max_depth=12, max_features=sqrt, min_samples_leaf=3, min_samples_split=16, n_estimators=156; total time=   0.7s\n",
      "[CV] END criterion=friedman_mse, max_depth=12, max_features=sqrt, min_samples_leaf=3, min_samples_split=16, n_estimators=156; total time=   0.6s\n",
      "[CV] END criterion=friedman_mse, max_depth=8, max_features=sqrt, min_samples_leaf=3, min_samples_split=72, n_estimators=231; total time=   0.7s\n",
      "[CV] END criterion=friedman_mse, max_depth=8, max_features=sqrt, min_samples_leaf=3, min_samples_split=72, n_estimators=231; total time=   0.7s\n",
      "[CV] END criterion=friedman_mse, max_depth=8, max_features=sqrt, min_samples_leaf=3, min_samples_split=72, n_estimators=231; total time=   0.8s\n",
      "[CV] END criterion=friedman_mse, max_depth=8, max_features=sqrt, min_samples_leaf=3, min_samples_split=72, n_estimators=231; total time=   0.8s\n",
      "[CV] END criterion=friedman_mse, max_depth=8, max_features=sqrt, min_samples_leaf=3, min_samples_split=72, n_estimators=231; total time=   0.8s\n",
      "[CV] END criterion=absolute_error, max_depth=8, max_features=sqrt, min_samples_leaf=6, min_samples_split=2, n_estimators=118; total time=  15.4s\n",
      "[CV] END criterion=absolute_error, max_depth=8, max_features=sqrt, min_samples_leaf=6, min_samples_split=2, n_estimators=118; total time=  15.2s\n",
      "[CV] END criterion=absolute_error, max_depth=8, max_features=sqrt, min_samples_leaf=6, min_samples_split=2, n_estimators=118; total time=  15.5s\n",
      "[CV] END criterion=absolute_error, max_depth=8, max_features=sqrt, min_samples_leaf=6, min_samples_split=2, n_estimators=118; total time=  15.4s\n",
      "[CV] END criterion=absolute_error, max_depth=8, max_features=sqrt, min_samples_leaf=6, min_samples_split=2, n_estimators=118; total time=  15.2s\n",
      "[CV] END criterion=poisson, max_depth=12, max_features=log2, min_samples_leaf=18, min_samples_split=2, n_estimators=137; total time=   0.7s\n",
      "[CV] END criterion=poisson, max_depth=12, max_features=log2, min_samples_leaf=18, min_samples_split=2, n_estimators=137; total time=   0.7s\n",
      "[CV] END criterion=poisson, max_depth=12, max_features=log2, min_samples_leaf=18, min_samples_split=2, n_estimators=137; total time=   0.7s\n",
      "[CV] END criterion=poisson, max_depth=12, max_features=log2, min_samples_leaf=18, min_samples_split=2, n_estimators=137; total time=   0.7s\n",
      "[CV] END criterion=poisson, max_depth=12, max_features=log2, min_samples_leaf=18, min_samples_split=2, n_estimators=137; total time=   0.7s\n",
      "[CV] END criterion=squared_error, max_depth=28, max_features=log2, min_samples_leaf=3, min_samples_split=44, n_estimators=231; total time=   1.0s\n",
      "[CV] END criterion=squared_error, max_depth=28, max_features=log2, min_samples_leaf=3, min_samples_split=44, n_estimators=231; total time=   1.0s\n",
      "[CV] END criterion=squared_error, max_depth=28, max_features=log2, min_samples_leaf=3, min_samples_split=44, n_estimators=231; total time=   1.0s\n",
      "[CV] END criterion=squared_error, max_depth=28, max_features=log2, min_samples_leaf=3, min_samples_split=44, n_estimators=231; total time=   1.0s\n",
      "[CV] END criterion=squared_error, max_depth=28, max_features=log2, min_samples_leaf=3, min_samples_split=44, n_estimators=231; total time=   0.9s\n",
      "[CV] END criterion=friedman_mse, max_depth=28, max_features=log2, min_samples_leaf=1, min_samples_split=30, n_estimators=193; total time=   0.9s\n",
      "[CV] END criterion=friedman_mse, max_depth=28, max_features=log2, min_samples_leaf=1, min_samples_split=30, n_estimators=193; total time=   0.9s\n",
      "[CV] END criterion=friedman_mse, max_depth=28, max_features=log2, min_samples_leaf=1, min_samples_split=30, n_estimators=193; total time=   0.8s\n",
      "[CV] END criterion=friedman_mse, max_depth=28, max_features=log2, min_samples_leaf=1, min_samples_split=30, n_estimators=193; total time=   0.9s\n",
      "[CV] END criterion=friedman_mse, max_depth=28, max_features=log2, min_samples_leaf=1, min_samples_split=30, n_estimators=193; total time=   0.8s\n",
      "[CV] END criterion=friedman_mse, max_depth=8, max_features=sqrt, min_samples_leaf=6, min_samples_split=86, n_estimators=193; total time=   0.6s\n",
      "[CV] END criterion=friedman_mse, max_depth=8, max_features=sqrt, min_samples_leaf=6, min_samples_split=86, n_estimators=193; total time=   0.7s\n",
      "[CV] END criterion=friedman_mse, max_depth=8, max_features=sqrt, min_samples_leaf=6, min_samples_split=86, n_estimators=193; total time=   0.6s\n",
      "[CV] END criterion=friedman_mse, max_depth=8, max_features=sqrt, min_samples_leaf=6, min_samples_split=86, n_estimators=193; total time=   0.6s\n",
      "[CV] END criterion=friedman_mse, max_depth=8, max_features=sqrt, min_samples_leaf=6, min_samples_split=86, n_estimators=193; total time=   0.6s\n"
     ]
    }
   ],
   "source": [
    "rsc = RandomizedSearchCV(estimator=rfr,param_distributions=parameters,n_iter=10,scoring='neg_mean_squared_error',n_jobs=1,cv=5,verbose=2,random_state=42,error_score='raise')\n",
    "model =rsc.fit(x_train,y_train)"
   ]
  },
  {
   "cell_type": "code",
   "execution_count": 32,
   "metadata": {},
   "outputs": [
    {
     "data": {
      "text/plain": [
       "{'n_estimators': 156,\n",
       " 'min_samples_split': 16,\n",
       " 'min_samples_leaf': 3,\n",
       " 'max_features': 'sqrt',\n",
       " 'max_depth': 12,\n",
       " 'criterion': 'friedman_mse'}"
      ]
     },
     "execution_count": 32,
     "metadata": {},
     "output_type": "execute_result"
    }
   ],
   "source": [
    "model.best_params_"
   ]
  },
  {
   "cell_type": "code",
   "execution_count": 37,
   "metadata": {},
   "outputs": [],
   "source": [
    "rfr_b=model.best_estimator_"
   ]
  },
  {
   "cell_type": "code",
   "execution_count": null,
   "metadata": {},
   "outputs": [],
   "source": []
  },
  {
   "cell_type": "code",
   "execution_count": 45,
   "metadata": {},
   "outputs": [],
   "source": [
    "predictions= rfr_b.predict(x_test)"
   ]
  },
  {
   "cell_type": "code",
   "execution_count": 39,
   "metadata": {},
   "outputs": [
    {
     "name": "stdout",
     "output_type": "stream",
     "text": [
      "test_data_metrics of randomized_search_cv:\n",
      "r2 score -  0.9196588110731072\n",
      "mean absolute error -  138353.46410484755\n",
      "mean squared error -  77480017789.98889\n",
      "root mean squared error -  278352.32671919395\n"
     ]
    }
   ],
   "source": [
    "print(\"test_data_metrics of randomized_search_cv:\")\n",
    "print(\"r2 score - \",r2_score(y_test,predictions))\n",
    "print(\"mean absolute error - \",mean_absolute_error(y_test,predictions))\n",
    "print(\"mean squared error - \",mean_squared_error(y_test,predictions))\n",
    "print(\"root mean squared error - \",np.sqrt(mean_squared_error(y_test,predictions)))"
   ]
  },
  {
   "cell_type": "code",
   "execution_count": 41,
   "metadata": {},
   "outputs": [],
   "source": [
    "import pickle\n",
    "with open('rfr_b.pkl','wb')as model_file:\n",
    "    pickle.dump(rfr,model_file)"
   ]
  },
  {
   "cell_type": "code",
   "execution_count": 43,
   "metadata": {},
   "outputs": [
    {
     "data": {
      "text/html": [
       "<style>#sk-container-id-2 {\n",
       "  /* Definition of color scheme common for light and dark mode */\n",
       "  --sklearn-color-text: #000;\n",
       "  --sklearn-color-text-muted: #666;\n",
       "  --sklearn-color-line: gray;\n",
       "  /* Definition of color scheme for unfitted estimators */\n",
       "  --sklearn-color-unfitted-level-0: #fff5e6;\n",
       "  --sklearn-color-unfitted-level-1: #f6e4d2;\n",
       "  --sklearn-color-unfitted-level-2: #ffe0b3;\n",
       "  --sklearn-color-unfitted-level-3: chocolate;\n",
       "  /* Definition of color scheme for fitted estimators */\n",
       "  --sklearn-color-fitted-level-0: #f0f8ff;\n",
       "  --sklearn-color-fitted-level-1: #d4ebff;\n",
       "  --sklearn-color-fitted-level-2: #b3dbfd;\n",
       "  --sklearn-color-fitted-level-3: cornflowerblue;\n",
       "\n",
       "  /* Specific color for light theme */\n",
       "  --sklearn-color-text-on-default-background: var(--sg-text-color, var(--theme-code-foreground, var(--jp-content-font-color1, black)));\n",
       "  --sklearn-color-background: var(--sg-background-color, var(--theme-background, var(--jp-layout-color0, white)));\n",
       "  --sklearn-color-border-box: var(--sg-text-color, var(--theme-code-foreground, var(--jp-content-font-color1, black)));\n",
       "  --sklearn-color-icon: #696969;\n",
       "\n",
       "  @media (prefers-color-scheme: dark) {\n",
       "    /* Redefinition of color scheme for dark theme */\n",
       "    --sklearn-color-text-on-default-background: var(--sg-text-color, var(--theme-code-foreground, var(--jp-content-font-color1, white)));\n",
       "    --sklearn-color-background: var(--sg-background-color, var(--theme-background, var(--jp-layout-color0, #111)));\n",
       "    --sklearn-color-border-box: var(--sg-text-color, var(--theme-code-foreground, var(--jp-content-font-color1, white)));\n",
       "    --sklearn-color-icon: #878787;\n",
       "  }\n",
       "}\n",
       "\n",
       "#sk-container-id-2 {\n",
       "  color: var(--sklearn-color-text);\n",
       "}\n",
       "\n",
       "#sk-container-id-2 pre {\n",
       "  padding: 0;\n",
       "}\n",
       "\n",
       "#sk-container-id-2 input.sk-hidden--visually {\n",
       "  border: 0;\n",
       "  clip: rect(1px 1px 1px 1px);\n",
       "  clip: rect(1px, 1px, 1px, 1px);\n",
       "  height: 1px;\n",
       "  margin: -1px;\n",
       "  overflow: hidden;\n",
       "  padding: 0;\n",
       "  position: absolute;\n",
       "  width: 1px;\n",
       "}\n",
       "\n",
       "#sk-container-id-2 div.sk-dashed-wrapped {\n",
       "  border: 1px dashed var(--sklearn-color-line);\n",
       "  margin: 0 0.4em 0.5em 0.4em;\n",
       "  box-sizing: border-box;\n",
       "  padding-bottom: 0.4em;\n",
       "  background-color: var(--sklearn-color-background);\n",
       "}\n",
       "\n",
       "#sk-container-id-2 div.sk-container {\n",
       "  /* jupyter's `normalize.less` sets `[hidden] { display: none; }`\n",
       "     but bootstrap.min.css set `[hidden] { display: none !important; }`\n",
       "     so we also need the `!important` here to be able to override the\n",
       "     default hidden behavior on the sphinx rendered scikit-learn.org.\n",
       "     See: https://github.com/scikit-learn/scikit-learn/issues/21755 */\n",
       "  display: inline-block !important;\n",
       "  position: relative;\n",
       "}\n",
       "\n",
       "#sk-container-id-2 div.sk-text-repr-fallback {\n",
       "  display: none;\n",
       "}\n",
       "\n",
       "div.sk-parallel-item,\n",
       "div.sk-serial,\n",
       "div.sk-item {\n",
       "  /* draw centered vertical line to link estimators */\n",
       "  background-image: linear-gradient(var(--sklearn-color-text-on-default-background), var(--sklearn-color-text-on-default-background));\n",
       "  background-size: 2px 100%;\n",
       "  background-repeat: no-repeat;\n",
       "  background-position: center center;\n",
       "}\n",
       "\n",
       "/* Parallel-specific style estimator block */\n",
       "\n",
       "#sk-container-id-2 div.sk-parallel-item::after {\n",
       "  content: \"\";\n",
       "  width: 100%;\n",
       "  border-bottom: 2px solid var(--sklearn-color-text-on-default-background);\n",
       "  flex-grow: 1;\n",
       "}\n",
       "\n",
       "#sk-container-id-2 div.sk-parallel {\n",
       "  display: flex;\n",
       "  align-items: stretch;\n",
       "  justify-content: center;\n",
       "  background-color: var(--sklearn-color-background);\n",
       "  position: relative;\n",
       "}\n",
       "\n",
       "#sk-container-id-2 div.sk-parallel-item {\n",
       "  display: flex;\n",
       "  flex-direction: column;\n",
       "}\n",
       "\n",
       "#sk-container-id-2 div.sk-parallel-item:first-child::after {\n",
       "  align-self: flex-end;\n",
       "  width: 50%;\n",
       "}\n",
       "\n",
       "#sk-container-id-2 div.sk-parallel-item:last-child::after {\n",
       "  align-self: flex-start;\n",
       "  width: 50%;\n",
       "}\n",
       "\n",
       "#sk-container-id-2 div.sk-parallel-item:only-child::after {\n",
       "  width: 0;\n",
       "}\n",
       "\n",
       "/* Serial-specific style estimator block */\n",
       "\n",
       "#sk-container-id-2 div.sk-serial {\n",
       "  display: flex;\n",
       "  flex-direction: column;\n",
       "  align-items: center;\n",
       "  background-color: var(--sklearn-color-background);\n",
       "  padding-right: 1em;\n",
       "  padding-left: 1em;\n",
       "}\n",
       "\n",
       "\n",
       "/* Toggleable style: style used for estimator/Pipeline/ColumnTransformer box that is\n",
       "clickable and can be expanded/collapsed.\n",
       "- Pipeline and ColumnTransformer use this feature and define the default style\n",
       "- Estimators will overwrite some part of the style using the `sk-estimator` class\n",
       "*/\n",
       "\n",
       "/* Pipeline and ColumnTransformer style (default) */\n",
       "\n",
       "#sk-container-id-2 div.sk-toggleable {\n",
       "  /* Default theme specific background. It is overwritten whether we have a\n",
       "  specific estimator or a Pipeline/ColumnTransformer */\n",
       "  background-color: var(--sklearn-color-background);\n",
       "}\n",
       "\n",
       "/* Toggleable label */\n",
       "#sk-container-id-2 label.sk-toggleable__label {\n",
       "  cursor: pointer;\n",
       "  display: flex;\n",
       "  width: 100%;\n",
       "  margin-bottom: 0;\n",
       "  padding: 0.5em;\n",
       "  box-sizing: border-box;\n",
       "  text-align: center;\n",
       "  align-items: start;\n",
       "  justify-content: space-between;\n",
       "  gap: 0.5em;\n",
       "}\n",
       "\n",
       "#sk-container-id-2 label.sk-toggleable__label .caption {\n",
       "  font-size: 0.6rem;\n",
       "  font-weight: lighter;\n",
       "  color: var(--sklearn-color-text-muted);\n",
       "}\n",
       "\n",
       "#sk-container-id-2 label.sk-toggleable__label-arrow:before {\n",
       "  /* Arrow on the left of the label */\n",
       "  content: \"▸\";\n",
       "  float: left;\n",
       "  margin-right: 0.25em;\n",
       "  color: var(--sklearn-color-icon);\n",
       "}\n",
       "\n",
       "#sk-container-id-2 label.sk-toggleable__label-arrow:hover:before {\n",
       "  color: var(--sklearn-color-text);\n",
       "}\n",
       "\n",
       "/* Toggleable content - dropdown */\n",
       "\n",
       "#sk-container-id-2 div.sk-toggleable__content {\n",
       "  max-height: 0;\n",
       "  max-width: 0;\n",
       "  overflow: hidden;\n",
       "  text-align: left;\n",
       "  /* unfitted */\n",
       "  background-color: var(--sklearn-color-unfitted-level-0);\n",
       "}\n",
       "\n",
       "#sk-container-id-2 div.sk-toggleable__content.fitted {\n",
       "  /* fitted */\n",
       "  background-color: var(--sklearn-color-fitted-level-0);\n",
       "}\n",
       "\n",
       "#sk-container-id-2 div.sk-toggleable__content pre {\n",
       "  margin: 0.2em;\n",
       "  border-radius: 0.25em;\n",
       "  color: var(--sklearn-color-text);\n",
       "  /* unfitted */\n",
       "  background-color: var(--sklearn-color-unfitted-level-0);\n",
       "}\n",
       "\n",
       "#sk-container-id-2 div.sk-toggleable__content.fitted pre {\n",
       "  /* unfitted */\n",
       "  background-color: var(--sklearn-color-fitted-level-0);\n",
       "}\n",
       "\n",
       "#sk-container-id-2 input.sk-toggleable__control:checked~div.sk-toggleable__content {\n",
       "  /* Expand drop-down */\n",
       "  max-height: 200px;\n",
       "  max-width: 100%;\n",
       "  overflow: auto;\n",
       "}\n",
       "\n",
       "#sk-container-id-2 input.sk-toggleable__control:checked~label.sk-toggleable__label-arrow:before {\n",
       "  content: \"▾\";\n",
       "}\n",
       "\n",
       "/* Pipeline/ColumnTransformer-specific style */\n",
       "\n",
       "#sk-container-id-2 div.sk-label input.sk-toggleable__control:checked~label.sk-toggleable__label {\n",
       "  color: var(--sklearn-color-text);\n",
       "  background-color: var(--sklearn-color-unfitted-level-2);\n",
       "}\n",
       "\n",
       "#sk-container-id-2 div.sk-label.fitted input.sk-toggleable__control:checked~label.sk-toggleable__label {\n",
       "  background-color: var(--sklearn-color-fitted-level-2);\n",
       "}\n",
       "\n",
       "/* Estimator-specific style */\n",
       "\n",
       "/* Colorize estimator box */\n",
       "#sk-container-id-2 div.sk-estimator input.sk-toggleable__control:checked~label.sk-toggleable__label {\n",
       "  /* unfitted */\n",
       "  background-color: var(--sklearn-color-unfitted-level-2);\n",
       "}\n",
       "\n",
       "#sk-container-id-2 div.sk-estimator.fitted input.sk-toggleable__control:checked~label.sk-toggleable__label {\n",
       "  /* fitted */\n",
       "  background-color: var(--sklearn-color-fitted-level-2);\n",
       "}\n",
       "\n",
       "#sk-container-id-2 div.sk-label label.sk-toggleable__label,\n",
       "#sk-container-id-2 div.sk-label label {\n",
       "  /* The background is the default theme color */\n",
       "  color: var(--sklearn-color-text-on-default-background);\n",
       "}\n",
       "\n",
       "/* On hover, darken the color of the background */\n",
       "#sk-container-id-2 div.sk-label:hover label.sk-toggleable__label {\n",
       "  color: var(--sklearn-color-text);\n",
       "  background-color: var(--sklearn-color-unfitted-level-2);\n",
       "}\n",
       "\n",
       "/* Label box, darken color on hover, fitted */\n",
       "#sk-container-id-2 div.sk-label.fitted:hover label.sk-toggleable__label.fitted {\n",
       "  color: var(--sklearn-color-text);\n",
       "  background-color: var(--sklearn-color-fitted-level-2);\n",
       "}\n",
       "\n",
       "/* Estimator label */\n",
       "\n",
       "#sk-container-id-2 div.sk-label label {\n",
       "  font-family: monospace;\n",
       "  font-weight: bold;\n",
       "  display: inline-block;\n",
       "  line-height: 1.2em;\n",
       "}\n",
       "\n",
       "#sk-container-id-2 div.sk-label-container {\n",
       "  text-align: center;\n",
       "}\n",
       "\n",
       "/* Estimator-specific */\n",
       "#sk-container-id-2 div.sk-estimator {\n",
       "  font-family: monospace;\n",
       "  border: 1px dotted var(--sklearn-color-border-box);\n",
       "  border-radius: 0.25em;\n",
       "  box-sizing: border-box;\n",
       "  margin-bottom: 0.5em;\n",
       "  /* unfitted */\n",
       "  background-color: var(--sklearn-color-unfitted-level-0);\n",
       "}\n",
       "\n",
       "#sk-container-id-2 div.sk-estimator.fitted {\n",
       "  /* fitted */\n",
       "  background-color: var(--sklearn-color-fitted-level-0);\n",
       "}\n",
       "\n",
       "/* on hover */\n",
       "#sk-container-id-2 div.sk-estimator:hover {\n",
       "  /* unfitted */\n",
       "  background-color: var(--sklearn-color-unfitted-level-2);\n",
       "}\n",
       "\n",
       "#sk-container-id-2 div.sk-estimator.fitted:hover {\n",
       "  /* fitted */\n",
       "  background-color: var(--sklearn-color-fitted-level-2);\n",
       "}\n",
       "\n",
       "/* Specification for estimator info (e.g. \"i\" and \"?\") */\n",
       "\n",
       "/* Common style for \"i\" and \"?\" */\n",
       "\n",
       ".sk-estimator-doc-link,\n",
       "a:link.sk-estimator-doc-link,\n",
       "a:visited.sk-estimator-doc-link {\n",
       "  float: right;\n",
       "  font-size: smaller;\n",
       "  line-height: 1em;\n",
       "  font-family: monospace;\n",
       "  background-color: var(--sklearn-color-background);\n",
       "  border-radius: 1em;\n",
       "  height: 1em;\n",
       "  width: 1em;\n",
       "  text-decoration: none !important;\n",
       "  margin-left: 0.5em;\n",
       "  text-align: center;\n",
       "  /* unfitted */\n",
       "  border: var(--sklearn-color-unfitted-level-1) 1pt solid;\n",
       "  color: var(--sklearn-color-unfitted-level-1);\n",
       "}\n",
       "\n",
       ".sk-estimator-doc-link.fitted,\n",
       "a:link.sk-estimator-doc-link.fitted,\n",
       "a:visited.sk-estimator-doc-link.fitted {\n",
       "  /* fitted */\n",
       "  border: var(--sklearn-color-fitted-level-1) 1pt solid;\n",
       "  color: var(--sklearn-color-fitted-level-1);\n",
       "}\n",
       "\n",
       "/* On hover */\n",
       "div.sk-estimator:hover .sk-estimator-doc-link:hover,\n",
       ".sk-estimator-doc-link:hover,\n",
       "div.sk-label-container:hover .sk-estimator-doc-link:hover,\n",
       ".sk-estimator-doc-link:hover {\n",
       "  /* unfitted */\n",
       "  background-color: var(--sklearn-color-unfitted-level-3);\n",
       "  color: var(--sklearn-color-background);\n",
       "  text-decoration: none;\n",
       "}\n",
       "\n",
       "div.sk-estimator.fitted:hover .sk-estimator-doc-link.fitted:hover,\n",
       ".sk-estimator-doc-link.fitted:hover,\n",
       "div.sk-label-container:hover .sk-estimator-doc-link.fitted:hover,\n",
       ".sk-estimator-doc-link.fitted:hover {\n",
       "  /* fitted */\n",
       "  background-color: var(--sklearn-color-fitted-level-3);\n",
       "  color: var(--sklearn-color-background);\n",
       "  text-decoration: none;\n",
       "}\n",
       "\n",
       "/* Span, style for the box shown on hovering the info icon */\n",
       ".sk-estimator-doc-link span {\n",
       "  display: none;\n",
       "  z-index: 9999;\n",
       "  position: relative;\n",
       "  font-weight: normal;\n",
       "  right: .2ex;\n",
       "  padding: .5ex;\n",
       "  margin: .5ex;\n",
       "  width: min-content;\n",
       "  min-width: 20ex;\n",
       "  max-width: 50ex;\n",
       "  color: var(--sklearn-color-text);\n",
       "  box-shadow: 2pt 2pt 4pt #999;\n",
       "  /* unfitted */\n",
       "  background: var(--sklearn-color-unfitted-level-0);\n",
       "  border: .5pt solid var(--sklearn-color-unfitted-level-3);\n",
       "}\n",
       "\n",
       ".sk-estimator-doc-link.fitted span {\n",
       "  /* fitted */\n",
       "  background: var(--sklearn-color-fitted-level-0);\n",
       "  border: var(--sklearn-color-fitted-level-3);\n",
       "}\n",
       "\n",
       ".sk-estimator-doc-link:hover span {\n",
       "  display: block;\n",
       "}\n",
       "\n",
       "/* \"?\"-specific style due to the `<a>` HTML tag */\n",
       "\n",
       "#sk-container-id-2 a.estimator_doc_link {\n",
       "  float: right;\n",
       "  font-size: 1rem;\n",
       "  line-height: 1em;\n",
       "  font-family: monospace;\n",
       "  background-color: var(--sklearn-color-background);\n",
       "  border-radius: 1rem;\n",
       "  height: 1rem;\n",
       "  width: 1rem;\n",
       "  text-decoration: none;\n",
       "  /* unfitted */\n",
       "  color: var(--sklearn-color-unfitted-level-1);\n",
       "  border: var(--sklearn-color-unfitted-level-1) 1pt solid;\n",
       "}\n",
       "\n",
       "#sk-container-id-2 a.estimator_doc_link.fitted {\n",
       "  /* fitted */\n",
       "  border: var(--sklearn-color-fitted-level-1) 1pt solid;\n",
       "  color: var(--sklearn-color-fitted-level-1);\n",
       "}\n",
       "\n",
       "/* On hover */\n",
       "#sk-container-id-2 a.estimator_doc_link:hover {\n",
       "  /* unfitted */\n",
       "  background-color: var(--sklearn-color-unfitted-level-3);\n",
       "  color: var(--sklearn-color-background);\n",
       "  text-decoration: none;\n",
       "}\n",
       "\n",
       "#sk-container-id-2 a.estimator_doc_link.fitted:hover {\n",
       "  /* fitted */\n",
       "  background-color: var(--sklearn-color-fitted-level-3);\n",
       "}\n",
       "</style><div id=\"sk-container-id-2\" class=\"sk-top-container\"><div class=\"sk-text-repr-fallback\"><pre>RandomForestRegressor()</pre><b>In a Jupyter environment, please rerun this cell to show the HTML representation or trust the notebook. <br />On GitHub, the HTML representation is unable to render, please try loading this page with nbviewer.org.</b></div><div class=\"sk-container\" hidden><div class=\"sk-item\"><div class=\"sk-estimator fitted sk-toggleable\"><input class=\"sk-toggleable__control sk-hidden--visually\" id=\"sk-estimator-id-2\" type=\"checkbox\" checked><label for=\"sk-estimator-id-2\" class=\"sk-toggleable__label fitted sk-toggleable__label-arrow\"><div><div>RandomForestRegressor</div></div><div><a class=\"sk-estimator-doc-link fitted\" rel=\"noreferrer\" target=\"_blank\" href=\"https://scikit-learn.org/1.6/modules/generated/sklearn.ensemble.RandomForestRegressor.html\">?<span>Documentation for RandomForestRegressor</span></a><span class=\"sk-estimator-doc-link fitted\">i<span>Fitted</span></span></div></label><div class=\"sk-toggleable__content fitted\"><pre>RandomForestRegressor()</pre></div> </div></div></div></div>"
      ],
      "text/plain": [
       "RandomForestRegressor()"
      ]
     },
     "execution_count": 43,
     "metadata": {},
     "output_type": "execute_result"
    }
   ],
   "source": [
    "\n",
    "with open('rfr_b.pkl','rb')as model_file:\n",
    "    l=pickle.load(model_file)\n",
    "l    "
   ]
  },
  {
   "cell_type": "code",
   "execution_count": null,
   "metadata": {},
   "outputs": [],
   "source": []
  },
  {
   "cell_type": "code",
   "execution_count": null,
   "metadata": {},
   "outputs": [],
   "source": []
  },
  {
   "cell_type": "code",
   "execution_count": null,
   "metadata": {},
   "outputs": [],
   "source": []
  },
  {
   "cell_type": "code",
   "execution_count": null,
   "metadata": {},
   "outputs": [],
   "source": []
  },
  {
   "cell_type": "code",
   "execution_count": null,
   "metadata": {},
   "outputs": [],
   "source": []
  },
  {
   "cell_type": "code",
   "execution_count": null,
   "metadata": {},
   "outputs": [],
   "source": []
  },
  {
   "cell_type": "code",
   "execution_count": null,
   "metadata": {},
   "outputs": [],
   "source": []
  },
  {
   "cell_type": "code",
   "execution_count": null,
   "metadata": {},
   "outputs": [],
   "source": []
  },
  {
   "cell_type": "code",
   "execution_count": null,
   "metadata": {},
   "outputs": [],
   "source": []
  },
  {
   "cell_type": "code",
   "execution_count": null,
   "metadata": {},
   "outputs": [],
   "source": []
  },
  {
   "cell_type": "code",
   "execution_count": null,
   "metadata": {},
   "outputs": [],
   "source": []
  },
  {
   "cell_type": "code",
   "execution_count": null,
   "metadata": {},
   "outputs": [],
   "source": []
  },
  {
   "cell_type": "code",
   "execution_count": null,
   "metadata": {},
   "outputs": [],
   "source": []
  },
  {
   "cell_type": "code",
   "execution_count": null,
   "metadata": {},
   "outputs": [],
   "source": []
  },
  {
   "cell_type": "code",
   "execution_count": null,
   "metadata": {},
   "outputs": [],
   "source": []
  },
  {
   "cell_type": "code",
   "execution_count": null,
   "metadata": {},
   "outputs": [],
   "source": []
  },
  {
   "cell_type": "code",
   "execution_count": null,
   "metadata": {},
   "outputs": [],
   "source": []
  },
  {
   "cell_type": "code",
   "execution_count": null,
   "metadata": {},
   "outputs": [],
   "source": []
  },
  {
   "cell_type": "code",
   "execution_count": null,
   "metadata": {},
   "outputs": [],
   "source": []
  },
  {
   "cell_type": "code",
   "execution_count": null,
   "metadata": {},
   "outputs": [],
   "source": []
  },
  {
   "cell_type": "code",
   "execution_count": null,
   "metadata": {},
   "outputs": [],
   "source": []
  },
  {
   "cell_type": "code",
   "execution_count": null,
   "metadata": {},
   "outputs": [],
   "source": []
  },
  {
   "cell_type": "code",
   "execution_count": null,
   "metadata": {},
   "outputs": [],
   "source": []
  },
  {
   "cell_type": "code",
   "execution_count": null,
   "metadata": {},
   "outputs": [],
   "source": []
  },
  {
   "cell_type": "code",
   "execution_count": null,
   "metadata": {},
   "outputs": [],
   "source": []
  },
  {
   "cell_type": "code",
   "execution_count": null,
   "metadata": {},
   "outputs": [],
   "source": []
  },
  {
   "cell_type": "code",
   "execution_count": null,
   "metadata": {},
   "outputs": [],
   "source": []
  },
  {
   "cell_type": "code",
   "execution_count": null,
   "metadata": {},
   "outputs": [],
   "source": []
  },
  {
   "cell_type": "code",
   "execution_count": null,
   "metadata": {},
   "outputs": [],
   "source": []
  },
  {
   "cell_type": "code",
   "execution_count": null,
   "metadata": {},
   "outputs": [],
   "source": []
  },
  {
   "cell_type": "code",
   "execution_count": null,
   "metadata": {},
   "outputs": [],
   "source": []
  },
  {
   "cell_type": "code",
   "execution_count": null,
   "metadata": {},
   "outputs": [],
   "source": []
  },
  {
   "cell_type": "code",
   "execution_count": null,
   "metadata": {},
   "outputs": [],
   "source": []
  },
  {
   "cell_type": "code",
   "execution_count": null,
   "metadata": {},
   "outputs": [],
   "source": []
  },
  {
   "cell_type": "code",
   "execution_count": null,
   "metadata": {},
   "outputs": [],
   "source": []
  }
 ],
 "metadata": {
  "kernelspec": {
   "display_name": "cars",
   "language": "python",
   "name": "python3"
  },
  "language_info": {
   "codemirror_mode": {
    "name": "ipython",
    "version": 3
   },
   "file_extension": ".py",
   "mimetype": "text/x-python",
   "name": "python",
   "nbconvert_exporter": "python",
   "pygments_lexer": "ipython3",
   "version": "3.12.9"
  }
 },
 "nbformat": 4,
 "nbformat_minor": 2
}
